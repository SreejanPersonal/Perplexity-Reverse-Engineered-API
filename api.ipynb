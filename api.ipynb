{
 "cells": [
  {
   "cell_type": "code",
   "execution_count": 155,
   "metadata": {},
   "outputs": [],
   "source": [
    "import requests\n",
    "import json\n",
    "import re\n",
    "import uuid"
   ]
  },
  {
   "cell_type": "code",
   "execution_count": 187,
   "metadata": {},
   "outputs": [
    {
     "name": "stdout",
     "output_type": "stream",
     "text": [
      "#### The Capital of India\n",
      "\n",
      "The capital of India is **New Delhi**. New Delhi is located in the north-central part of India and is adjacent south of Delhi city. It was established on December 15, 1911, and formally dedicated in 1931. The city is part of the larger Delhi Metro Area, with a population of over 32 million. It is the seat of all three branches of the Government of India, hosting the Rashtrapati Bhavan, Sansad Bhavan, and the Supreme Court [[1]](https://www.worldatlas.com/articles/what-is-the-capital-of-india.html) [[2]](https://www.mappr.co/capital-cities/india/) [[3]](https://www.usatoday.com/story/news/world/2023/05/24/what-is-the-capital-of-india/70195720007/) [[4]](https://en.wikipedia.org/wiki/New_Delhi).\n",
      "\n",
      "#### Historical Background\n",
      "\n",
      "Prior to 1911, **Calcutta** was the capital city of India during the British Rule. However, it had become the center of nationalist movements since the late nineteenth century, which led to the Partition of Bengal by Viceroy Lord Curzon. This created massive political and religious upsurge, including political assassinations of British officials in Calcutta. The decision to move the capital to Delhi was made in 1911, and the construction of New Delhi began the following year [[4]](https://en.wikipedia.org/wiki/New_Delhi).\n",
      "\n",
      "#### Population and Area\n",
      "\n",
      "Delhi, including New Delhi, had an estimated population of 18.6 million people in 2016, making it the fifth most populous city in the world. Delhi is the largest city in India, covering an area of 1484 square kilometers, with New Delhi covering 42.7 square kilometers [[1]](https://www.worldatlas.com/articles/what-is-the-capital-of-india.html) [[2]](https://www.mappr.co/capital-cities/india/) [[3]](https://www.usatoday.com/story/news/world/2023/05/24/what-is-the-capital-of-india/70195720007/).\n",
      "\n",
      "#### Political and Financial Significance\n",
      "\n",
      "New Delhi, despite not being the largest city in India, functions as the political and financial capital of the country. It houses political and financial empires and is the seat of the Government of India [[5]](https://worldpopulationreview.com/countries/india/capital).\n",
      "\n",
      "In summary, the capital of India is New Delhi, which was established in 1911 and formally dedicated in 1931. It is the seat of the Government of India and is located in the north-central part of the country [[1]](https://www.worldatlas.com/articles/what-is-the-capital-of-india.html) [[2]](https://www.mappr.co/capital-cities/india/) [[3]](https://www.usatoday.com/story/news/world/2023/05/24/what-is-the-capital-of-india/70195720007/) [[4]](https://en.wikipedia.org/wiki/New_Delhi) [[5]](https://worldpopulationreview.com/countries/india/capital)."
     ]
    }
   ],
   "source": [
    "import requests\n",
    "import re\n",
    "import json\n",
    "import uuid\n",
    "\n",
    "def generate(prompt: str, prints: bool = True, page: int = 1, count: int = 10) -> str:\n",
    "    \"\"\"\n",
    "    Retrieves a streaming search response for a given prompt using the you.com API.\n",
    "\n",
    "    Parameters:\n",
    "    - prompt (str): The search query to be sent to the API.\n",
    "    - prints (bool, optional): A flag to print the response tokens as they are received. Defaults to True.\n",
    "    - page (int, optional): The page number of the search results to retrieve. Defaults to 1.\n",
    "    - count (int, optional): The number of search results to retrieve per page. Defaults to 10.\n",
    "\n",
    "    Returns:\n",
    "    - str: A concatenated string of the 'youChatToken' values from the streaming response.\n",
    "\n",
    "    This function constructs a GET request with the necessary headers and query parameters,\n",
    "    sends it to the specified URL, and processes the streaming response. It extracts the\n",
    "    'youChatToken' values from the JSON response and optionally prints them. The function\n",
    "    returns the concatenated 'youChatToken' values as a single string.\n",
    "    \"\"\"\n",
    "    # Define the API endpoint and query parameters\n",
    "    url = \"https://you.com/api/streamingSearch\"\n",
    "    query_params = {\n",
    "        'q': prompt,\n",
    "        'page': page,\n",
    "        'count': count,\n",
    "        'safeSearch': 'Moderate',\n",
    "        'mkt': 'en-IN',\n",
    "        'responseFilter': 'WebPages,TimeZone,Computation,RelatedSearches',\n",
    "        'domain': 'youchat',\n",
    "        'use_personalization_extraction': True,\n",
    "        'queryTraceId': uuid.uuid4(),\n",
    "        'conversationTurnId': uuid.uuid4(),\n",
    "        'pastChatLength': 0,\n",
    "        'selectedChatMode': 'default',\n",
    "        'chat': '[]'\n",
    "    }\n",
    "\n",
    "    # Set the request headers\n",
    "    headers = {\n",
    "        'User-Agent': 'Mozilla/5.0 (Windows NT 10.0; Win64; x64) AppleWebKit/537.36 (KHTML, like Gecko) Chrome/124.0.0.0 Safari/537.36',\n",
    "        'Referer': f'https://you.com/search?q={prompt}&fromSearchBar=true&tbm=youchat&chatMode=default'\n",
    "    }\n",
    "\n",
    "    # Send the GET request and process the streaming response\n",
    "    response = requests.get(url, params=query_params, headers=headers, stream=True)\n",
    "    streaming_response = \"\"\n",
    "    for line in response.iter_lines(decode_unicode=True, chunk_size=64):\n",
    "        if line:\n",
    "            modified_value = re.sub(\"data:\", \"\", line)\n",
    "            try: \n",
    "                json_modified_value = json.loads(modified_value)\n",
    "                if \"youChatToken\" in json_modified_value:\n",
    "                    streaming_response += json_modified_value['youChatToken']\n",
    "                    if prints: print(json_modified_value['youChatToken'], end=\"\")\n",
    "            except: continue\n",
    "\n",
    "    return streaming_response\n",
    "\n",
    "\n",
    "if __name__ == \"__main__\":\n",
    "    # response = generate(\"when did ipl 2024 started and ended\")\n",
    "    response = generate(\"what is the capital of India. Explain in detail\")\n",
    "    # print(response)"
   ]
  },
  {
   "cell_type": "code",
   "execution_count": 184,
   "metadata": {},
   "outputs": [
    {
     "data": {
      "text/plain": [
       "''"
      ]
     },
     "execution_count": 184,
     "metadata": {},
     "output_type": "execute_result"
    }
   ],
   "source": [
    "def generate(prompt, prints: bool = True): \n",
    "    url = \"https://you.com/api/streamingSearch\"\n",
    "    query_params = {\n",
    "        'q': prompt,\n",
    "        'page': 1,\n",
    "        'count': 10,\n",
    "        'safeSearch': 'Moderate',\n",
    "        'mkt': 'en-IN',\n",
    "        'responseFilter': 'WebPages,TimeZone,Computation,RelatedSearches',\n",
    "        'domain': 'youchat',\n",
    "        'use_personalization_extraction': True,\n",
    "        'queryTraceId': uuid.uuid4(),\n",
    "        'conversationTurnId': uuid.uuid4(),\n",
    "        'pastChatLength': 0,\n",
    "        'selectedChatMode': 'default',\n",
    "        'chat': '[]'\n",
    "    }\n",
    "\n",
    "    headers = {\n",
    "        'User-Agent': 'Mozilla/5.0 (Windows NT 10.0; Win64; x64) AppleWebKit/537.36 (KHTML, like Gecko) Chrome/124.0.0.0 Safari/537.36',\n",
    "        'Referer': f'https://you.com/search?q={prompt}&fromSearchBar=true&tbm=youchat&chatMode=default'\n",
    "    }\n",
    "\n",
    "    response = requests.get(url, params=query_params, headers=headers, stream=True)\n",
    "    streaming_response = \"\"\n",
    "    for line in response.iter_lines(decode_unicode=True, chunk_size=64):\n",
    "        if line:\n",
    "            modified_value = re.sub(\"data:\", \"\", line)\n",
    "            try: \n",
    "                json_modified_value = json.loads(modified_value)\n",
    "                if \"youChatToken\" in json_modified_value:\n",
    "                    streaming_response += json_modified_value['youChatToken']\n",
    "                    if prints: print(json_modified_value['youChatToken'], end=\"\")\n",
    "            except: continue\n",
    "\n",
    "    return streaming_response\n",
    "            \n",
    "\n",
    "generate(\"what is the capital of India. Explain in detail\")\n",
    "\n"
   ]
  }
 ],
 "metadata": {
  "kernelspec": {
   "display_name": "Python 3",
   "language": "python",
   "name": "python3"
  },
  "language_info": {
   "codemirror_mode": {
    "name": "ipython",
    "version": 3
   },
   "file_extension": ".py",
   "mimetype": "text/x-python",
   "name": "python",
   "nbconvert_exporter": "python",
   "pygments_lexer": "ipython3",
   "version": "3.10.10"
  }
 },
 "nbformat": 4,
 "nbformat_minor": 2
}
